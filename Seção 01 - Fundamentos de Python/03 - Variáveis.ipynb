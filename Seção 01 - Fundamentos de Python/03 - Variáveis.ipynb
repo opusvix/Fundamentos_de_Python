{
 "cells": [
  {
   "cell_type": "markdown",
   "id": "5506844e",
   "metadata": {},
   "source": [
    "## 3. Variáveis\n",
    "\n",
    "   * Declarando variáveis"
   ]
  },
  {
   "cell_type": "code",
   "execution_count": 1,
   "id": "8f41bdec",
   "metadata": {},
   "outputs": [
    {
     "name": "stdout",
     "output_type": "stream",
     "text": [
      "João\n",
      "18\n",
      "1.73\n"
     ]
    }
   ],
   "source": [
    "nome = \"João\"  # String\n",
    "idade = 18  # int\n",
    "altura = 1.73  # float\n",
    "print(nome)\n",
    "print(idade)\n",
    "print(altura)"
   ]
  },
  {
   "cell_type": "code",
   "execution_count": 2,
   "id": "75372a67",
   "metadata": {},
   "outputs": [
    {
     "data": {
      "text/plain": [
       "str"
      ]
     },
     "execution_count": 2,
     "metadata": {},
     "output_type": "execute_result"
    }
   ],
   "source": [
    "type(nome)"
   ]
  },
  {
   "cell_type": "code",
   "execution_count": 3,
   "id": "86ff2ae4",
   "metadata": {},
   "outputs": [
    {
     "data": {
      "text/plain": [
       "int"
      ]
     },
     "execution_count": 3,
     "metadata": {},
     "output_type": "execute_result"
    }
   ],
   "source": [
    "type(idade)"
   ]
  },
  {
   "cell_type": "code",
   "execution_count": 4,
   "id": "0e8193f0",
   "metadata": {},
   "outputs": [
    {
     "data": {
      "text/plain": [
       "float"
      ]
     },
     "execution_count": 4,
     "metadata": {},
     "output_type": "execute_result"
    }
   ],
   "source": [
    "type(altura)"
   ]
  },
  {
   "cell_type": "code",
   "execution_count": 5,
   "id": "d06e8a3a",
   "metadata": {},
   "outputs": [
    {
     "name": "stdout",
     "output_type": "stream",
     "text": [
      "10.5\n"
     ]
    }
   ],
   "source": [
    "x = 10\n",
    "x = 10.5\n",
    "print(x)"
   ]
  },
  {
   "cell_type": "markdown",
   "id": "23abfcb7",
   "metadata": {},
   "source": [
    "* Recebendo dados do usuário"
   ]
  },
  {
   "cell_type": "code",
   "execution_count": 6,
   "id": "ce1fcef9",
   "metadata": {},
   "outputs": [
    {
     "name": "stdout",
     "output_type": "stream",
     "text": [
      "Marcos\n"
     ]
    }
   ],
   "source": [
    "nome = input()"
   ]
  },
  {
   "cell_type": "code",
   "execution_count": 7,
   "id": "449b91e3",
   "metadata": {},
   "outputs": [
    {
     "data": {
      "text/plain": [
       "'Marcos'"
      ]
     },
     "execution_count": 7,
     "metadata": {},
     "output_type": "execute_result"
    }
   ],
   "source": [
    "nome"
   ]
  },
  {
   "cell_type": "code",
   "execution_count": 8,
   "id": "87fcc142",
   "metadata": {},
   "outputs": [
    {
     "name": "stdout",
     "output_type": "stream",
     "text": [
      "Digite seu nome: Miguel\n"
     ]
    }
   ],
   "source": [
    "nome = input(\"Digite seu nome: \")"
   ]
  },
  {
   "cell_type": "code",
   "execution_count": 9,
   "id": "51e3b118",
   "metadata": {},
   "outputs": [
    {
     "data": {
      "text/plain": [
       "'Miguel'"
      ]
     },
     "execution_count": 9,
     "metadata": {},
     "output_type": "execute_result"
    }
   ],
   "source": [
    "nome"
   ]
  },
  {
   "cell_type": "code",
   "execution_count": 10,
   "id": "9038d817",
   "metadata": {},
   "outputs": [
    {
     "name": "stdout",
     "output_type": "stream",
     "text": [
      "Digite seu nome: João\n",
      "Digite sua idade: 36\n",
      "Digite seu peso: 79\n"
     ]
    }
   ],
   "source": [
    "nome = input(\"Digite seu nome: \")\n",
    "idade = input(\"Digite sua idade: \")\n",
    "peso = input(\"Digite seu peso: \")"
   ]
  },
  {
   "cell_type": "code",
   "execution_count": 11,
   "id": "89ee0b2f",
   "metadata": {},
   "outputs": [
    {
     "data": {
      "text/plain": [
       "'João'"
      ]
     },
     "execution_count": 11,
     "metadata": {},
     "output_type": "execute_result"
    }
   ],
   "source": [
    "nome"
   ]
  },
  {
   "cell_type": "code",
   "execution_count": 12,
   "id": "0e3dd75c",
   "metadata": {},
   "outputs": [
    {
     "data": {
      "text/plain": [
       "'36'"
      ]
     },
     "execution_count": 12,
     "metadata": {},
     "output_type": "execute_result"
    }
   ],
   "source": [
    "idade"
   ]
  },
  {
   "cell_type": "code",
   "execution_count": 13,
   "id": "42ea6109",
   "metadata": {},
   "outputs": [
    {
     "data": {
      "text/plain": [
       "'79'"
      ]
     },
     "execution_count": 13,
     "metadata": {},
     "output_type": "execute_result"
    }
   ],
   "source": [
    "peso"
   ]
  },
  {
   "cell_type": "code",
   "execution_count": 14,
   "id": "5fb2b1d2",
   "metadata": {},
   "outputs": [
    {
     "data": {
      "text/plain": [
       "str"
      ]
     },
     "execution_count": 14,
     "metadata": {},
     "output_type": "execute_result"
    }
   ],
   "source": [
    "type(nome)"
   ]
  },
  {
   "cell_type": "code",
   "execution_count": 15,
   "id": "205d5c22",
   "metadata": {},
   "outputs": [
    {
     "data": {
      "text/plain": [
       "str"
      ]
     },
     "execution_count": 15,
     "metadata": {},
     "output_type": "execute_result"
    }
   ],
   "source": [
    "type(idade)"
   ]
  },
  {
   "cell_type": "code",
   "execution_count": 16,
   "id": "a929c381",
   "metadata": {},
   "outputs": [
    {
     "data": {
      "text/plain": [
       "str"
      ]
     },
     "execution_count": 16,
     "metadata": {},
     "output_type": "execute_result"
    }
   ],
   "source": [
    "type(peso)"
   ]
  },
  {
   "cell_type": "code",
   "execution_count": 17,
   "id": "9626b8f8",
   "metadata": {},
   "outputs": [
    {
     "name": "stdout",
     "output_type": "stream",
     "text": [
      "Nome: João\n",
      "Idade 36\n",
      "Peso 79\n"
     ]
    }
   ],
   "source": [
    "print(f\"Nome: {nome}\")\n",
    "print(f\"Idade {idade}\")\n",
    "print(f\"Peso {peso}\")"
   ]
  },
  {
   "cell_type": "markdown",
   "id": "2bca0512",
   "metadata": {},
   "source": [
    "* Declarando múltiplos valores em uma única linha"
   ]
  },
  {
   "cell_type": "code",
   "execution_count": 18,
   "id": "18632295",
   "metadata": {},
   "outputs": [],
   "source": [
    "x = 10\n",
    "y = 20"
   ]
  },
  {
   "cell_type": "code",
   "execution_count": 19,
   "id": "9b7e438c",
   "metadata": {},
   "outputs": [
    {
     "name": "stdout",
     "output_type": "stream",
     "text": [
      "10 20\n"
     ]
    }
   ],
   "source": [
    "print(x, y)"
   ]
  },
  {
   "cell_type": "code",
   "execution_count": 20,
   "id": "f290ba77",
   "metadata": {},
   "outputs": [],
   "source": [
    "x, y = 25, 30"
   ]
  },
  {
   "cell_type": "code",
   "execution_count": 21,
   "id": "0344de1a",
   "metadata": {},
   "outputs": [
    {
     "name": "stdout",
     "output_type": "stream",
     "text": [
      "25 30\n"
     ]
    }
   ],
   "source": [
    "print(x, y)"
   ]
  },
  {
   "cell_type": "code",
   "execution_count": 22,
   "id": "cbee43fb",
   "metadata": {},
   "outputs": [],
   "source": [
    "x = 10\n",
    "y = 15\n",
    "z = 20\n",
    "w = 30"
   ]
  },
  {
   "cell_type": "code",
   "execution_count": 23,
   "id": "16bd8bca",
   "metadata": {},
   "outputs": [],
   "source": [
    "x, y, z, w = 10, 15, 20, 30"
   ]
  },
  {
   "cell_type": "markdown",
   "id": "4f42b8a2",
   "metadata": {},
   "source": [
    "* Declarando um valor para múltiplas variáveis"
   ]
  },
  {
   "cell_type": "code",
   "execution_count": 24,
   "id": "1c600e1e",
   "metadata": {},
   "outputs": [],
   "source": [
    "x = y = 0"
   ]
  },
  {
   "cell_type": "code",
   "execution_count": 25,
   "id": "33e696f3",
   "metadata": {},
   "outputs": [
    {
     "name": "stdout",
     "output_type": "stream",
     "text": [
      "0 0\n"
     ]
    }
   ],
   "source": [
    "print(x, y)"
   ]
  },
  {
   "cell_type": "code",
   "execution_count": 26,
   "id": "85cf7239",
   "metadata": {},
   "outputs": [],
   "source": [
    "x = y = z = 10"
   ]
  },
  {
   "cell_type": "code",
   "execution_count": 27,
   "id": "ef7678c0",
   "metadata": {},
   "outputs": [
    {
     "name": "stdout",
     "output_type": "stream",
     "text": [
      "10 10 10\n"
     ]
    }
   ],
   "source": [
    "print(x, y, z)"
   ]
  }
 ],
 "metadata": {
  "kernelspec": {
   "display_name": "Python 3 (ipykernel)",
   "language": "python",
   "name": "python3"
  },
  "language_info": {
   "codemirror_mode": {
    "name": "ipython",
    "version": 3
   },
   "file_extension": ".py",
   "mimetype": "text/x-python",
   "name": "python",
   "nbconvert_exporter": "python",
   "pygments_lexer": "ipython3",
   "version": "3.9.7"
  }
 },
 "nbformat": 4,
 "nbformat_minor": 5
}

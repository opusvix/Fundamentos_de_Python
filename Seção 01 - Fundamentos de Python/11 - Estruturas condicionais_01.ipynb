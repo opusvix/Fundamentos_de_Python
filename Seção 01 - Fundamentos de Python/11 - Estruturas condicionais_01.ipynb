{
 "cells": [
  {
   "cell_type": "markdown",
   "id": "3112897f",
   "metadata": {},
   "source": [
    "## 11. Estruturas condicionais"
   ]
  },
  {
   "cell_type": "code",
   "execution_count": null,
   "id": "ed1218dc",
   "metadata": {},
   "outputs": [],
   "source": [
    "if <condição>:\n",
    "    <bloco_de_código>\n",
    "else:\n",
    "    <bloco_de_código>"
   ]
  },
  {
   "cell_type": "code",
   "execution_count": 1,
   "id": "4b9a55ce",
   "metadata": {},
   "outputs": [
    {
     "name": "stdout",
     "output_type": "stream",
     "text": [
      "Seja bem-vindo!\n"
     ]
    }
   ],
   "source": [
    "if True:\n",
    "    print('Seja bem-vindo!')"
   ]
  },
  {
   "cell_type": "code",
   "execution_count": 2,
   "id": "a094f764",
   "metadata": {},
   "outputs": [
    {
     "name": "stdout",
     "output_type": "stream",
     "text": [
      "O número é maior que 25.\n",
      "Seja bem-vindo\n"
     ]
    }
   ],
   "source": [
    "num = 50\n",
    "\n",
    "if num >= 25:\n",
    "    print('O número é maior que 25.')\n",
    "    print('Seja bem-vindo')"
   ]
  },
  {
   "cell_type": "code",
   "execution_count": 3,
   "id": "5d9d9164",
   "metadata": {},
   "outputs": [],
   "source": [
    "if False:\n",
    "    print('Seja bem-vindo!')"
   ]
  },
  {
   "cell_type": "code",
   "execution_count": 4,
   "id": "ba705423",
   "metadata": {},
   "outputs": [
    {
     "name": "stdout",
     "output_type": "stream",
     "text": [
      "Digite seu nome: Marcos\n",
      "Digite sua idade: 18\n",
      "Olá, Marcos!\n",
      "Seja bem-vindo ao nosso sistema.\n"
     ]
    }
   ],
   "source": [
    "nome = input(\"Digite seu nome: \")\n",
    "idade = int(input(\"Digite sua idade: \"))\n",
    "\n",
    "if idade >= 18:\n",
    "    print(f\"Olá, {nome}!\")\n",
    "    print(\"Seja bem-vindo ao nosso sistema.\")\n",
    "else:\n",
    "    print(f\"Olá, {nome}!\")\n",
    "    print(\"Acesso negado.\")"
   ]
  },
  {
   "cell_type": "code",
   "execution_count": 5,
   "id": "142867bb",
   "metadata": {},
   "outputs": [
    {
     "name": "stdout",
     "output_type": "stream",
     "text": [
      "Digite seu nome: Anna\n",
      "Digite sua idade: 18\n",
      "Olá, Anna!\n",
      "Seja bem-vindo ao nosso sistema.\n",
      "Seu nome é muito curto.\n"
     ]
    }
   ],
   "source": [
    "nome = input(\"Digite seu nome: \")\n",
    "idade = int(input(\"Digite sua idade: \"))\n",
    "\n",
    "if idade >= 18:\n",
    "    print(f\"Olá, {nome}!\")\n",
    "    print(\"Seja bem-vindo ao nosso sistema.\")\n",
    "    \n",
    "    if len(nome) > 5:\n",
    "        print(\"Seu nome é muito longo.\")\n",
    "    else:\n",
    "        print(\"Seu nome é muito curto.\")\n",
    "else:\n",
    "    print(f\"Olá, {nome}!\")\n",
    "    print(\"Acesso negado.\")"
   ]
  }
 ],
 "metadata": {
  "kernelspec": {
   "display_name": "Python 3 (ipykernel)",
   "language": "python",
   "name": "python3"
  },
  "language_info": {
   "codemirror_mode": {
    "name": "ipython",
    "version": 3
   },
   "file_extension": ".py",
   "mimetype": "text/x-python",
   "name": "python",
   "nbconvert_exporter": "python",
   "pygments_lexer": "ipython3",
   "version": "3.9.7"
  }
 },
 "nbformat": 4,
 "nbformat_minor": 5
}

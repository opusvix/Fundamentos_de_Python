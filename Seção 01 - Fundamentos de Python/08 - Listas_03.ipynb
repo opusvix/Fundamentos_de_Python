{
 "cells": [
  {
   "cell_type": "markdown",
   "id": "01366a89",
   "metadata": {},
   "source": [
    "## 9. Listas"
   ]
  },
  {
   "cell_type": "markdown",
   "id": "60a924b1",
   "metadata": {},
   "source": [
    "* append - adiciona um elemento ao final da lista"
   ]
  },
  {
   "cell_type": "code",
   "execution_count": 1,
   "id": "04fefcf0",
   "metadata": {},
   "outputs": [],
   "source": [
    "# Declara a lista\n",
    "numeros = [45, 50, 55]\n",
    "\n",
    "# Adiciona o número 60 ao final da lista\n",
    "numeros.append(30)"
   ]
  },
  {
   "cell_type": "code",
   "execution_count": 2,
   "id": "113782fc",
   "metadata": {},
   "outputs": [
    {
     "data": {
      "text/plain": [
       "[45, 50, 55, 30]"
      ]
     },
     "execution_count": 2,
     "metadata": {},
     "output_type": "execute_result"
    }
   ],
   "source": [
    "numeros"
   ]
  },
  {
   "cell_type": "code",
   "execution_count": 3,
   "id": "32a7c438",
   "metadata": {},
   "outputs": [],
   "source": [
    "numeros.append(77)"
   ]
  },
  {
   "cell_type": "code",
   "execution_count": 4,
   "id": "616d2bbb",
   "metadata": {},
   "outputs": [
    {
     "data": {
      "text/plain": [
       "[45, 50, 55, 30, 77]"
      ]
     },
     "execution_count": 4,
     "metadata": {},
     "output_type": "execute_result"
    }
   ],
   "source": [
    "numeros"
   ]
  },
  {
   "cell_type": "markdown",
   "id": "1d4b2a73",
   "metadata": {},
   "source": [
    "Se fizermos numeros.append(60, 61):\n",
    "\n",
    "   * TypeError: append() takes exactly one argument (2 given)\n",
    "\n",
    "Ou seja, o método append recebe apenas um argumento. poderíamos então colocar os números dentro de uma lista ou tupla e passar como argumento da função append."
   ]
  },
  {
   "cell_type": "code",
   "execution_count": 5,
   "id": "04c68006",
   "metadata": {},
   "outputs": [],
   "source": [
    "numeros.append([60, 61])"
   ]
  },
  {
   "cell_type": "code",
   "execution_count": 6,
   "id": "a6128674",
   "metadata": {},
   "outputs": [
    {
     "data": {
      "text/plain": [
       "[45, 50, 55, 30, 77, [60, 61]]"
      ]
     },
     "execution_count": 6,
     "metadata": {},
     "output_type": "execute_result"
    }
   ],
   "source": [
    "numeros"
   ]
  },
  {
   "cell_type": "markdown",
   "id": "d70b37d5",
   "metadata": {},
   "source": [
    "extend - adiciona os elementos de um iterável (por exemplo, lista, tupla...) ao final de uma lista."
   ]
  },
  {
   "cell_type": "code",
   "execution_count": 7,
   "id": "6899be28",
   "metadata": {},
   "outputs": [],
   "source": [
    "# Declaramos uma lista\n",
    "numeros = [0, 0, 0, 0]\n",
    "\n",
    "# Adicionamos apenas os números do iterável\n",
    "numeros.extend([1, 2, 3])"
   ]
  },
  {
   "cell_type": "code",
   "execution_count": 8,
   "id": "d1eac026",
   "metadata": {},
   "outputs": [
    {
     "data": {
      "text/plain": [
       "[0, 0, 0, 0, 1, 2, 3]"
      ]
     },
     "execution_count": 8,
     "metadata": {},
     "output_type": "execute_result"
    }
   ],
   "source": [
    "numeros"
   ]
  },
  {
   "cell_type": "code",
   "execution_count": 9,
   "id": "09daf85a",
   "metadata": {},
   "outputs": [],
   "source": [
    "numeros.extend([60, 61])"
   ]
  },
  {
   "cell_type": "code",
   "execution_count": 10,
   "id": "fc658915",
   "metadata": {},
   "outputs": [
    {
     "data": {
      "text/plain": [
       "[0, 0, 0, 0, 1, 2, 3, 60, 61]"
      ]
     },
     "execution_count": 10,
     "metadata": {},
     "output_type": "execute_result"
    }
   ],
   "source": [
    "numeros"
   ]
  },
  {
   "cell_type": "code",
   "execution_count": 11,
   "id": "d185dafa",
   "metadata": {},
   "outputs": [],
   "source": [
    "# Adicionamos as letras da string\n",
    "numeros.extend('abcdef')"
   ]
  },
  {
   "cell_type": "code",
   "execution_count": 12,
   "id": "5e7a8f4c",
   "metadata": {},
   "outputs": [
    {
     "data": {
      "text/plain": [
       "[0, 0, 0, 0, 1, 2, 3, 60, 61, 'a', 'b', 'c', 'd', 'e', 'f']"
      ]
     },
     "execution_count": 12,
     "metadata": {},
     "output_type": "execute_result"
    }
   ],
   "source": [
    "numeros"
   ]
  },
  {
   "cell_type": "markdown",
   "id": "a38f1f03",
   "metadata": {},
   "source": [
    "insert - adiciona um elemento em uma posição especificada. Sintaxe:\n",
    "\n",
    "   * lista.insert(index, object) - primeiro passamos o índice e depois o objeto."
   ]
  },
  {
   "cell_type": "code",
   "execution_count": 13,
   "id": "9dadb77e",
   "metadata": {},
   "outputs": [],
   "source": [
    "# Declara a lista\n",
    "numeros = [4, 10, 11, 12, 7, 9, 15]"
   ]
  },
  {
   "cell_type": "code",
   "execution_count": 14,
   "id": "8e0a2fa6",
   "metadata": {},
   "outputs": [
    {
     "data": {
      "text/plain": [
       "10"
      ]
     },
     "execution_count": 14,
     "metadata": {},
     "output_type": "execute_result"
    }
   ],
   "source": [
    "numeros[1]"
   ]
  },
  {
   "cell_type": "code",
   "execution_count": 15,
   "id": "0f35eb12",
   "metadata": {},
   "outputs": [],
   "source": [
    "# Insere o número 0 no índice 1\n",
    "numeros.insert(1,0)"
   ]
  },
  {
   "cell_type": "code",
   "execution_count": 16,
   "id": "d8d68636",
   "metadata": {},
   "outputs": [
    {
     "data": {
      "text/plain": [
       "[4, 0, 10, 11, 12, 7, 9, 15]"
      ]
     },
     "execution_count": 16,
     "metadata": {},
     "output_type": "execute_result"
    }
   ],
   "source": [
    "numeros"
   ]
  },
  {
   "cell_type": "code",
   "execution_count": 17,
   "id": "29d196f3",
   "metadata": {},
   "outputs": [
    {
     "data": {
      "text/plain": [
       "0"
      ]
     },
     "execution_count": 17,
     "metadata": {},
     "output_type": "execute_result"
    }
   ],
   "source": [
    "numeros[1]"
   ]
  },
  {
   "cell_type": "markdown",
   "id": "915bfb0e",
   "metadata": {},
   "source": [
    "remove - remove o primeiro item com o valor especificado.\n",
    "\n",
    "ValueError: se inserirmos um valor que não esteja na lista teremos esse tipo de erro."
   ]
  },
  {
   "cell_type": "code",
   "execution_count": 18,
   "id": "f50290c7",
   "metadata": {},
   "outputs": [],
   "source": [
    "# Removemos o número 13 da lista\n",
    "numeros = [10, 11, 12, 13]\n",
    "numeros.remove(13)"
   ]
  },
  {
   "cell_type": "code",
   "execution_count": 19,
   "id": "b30ab864",
   "metadata": {},
   "outputs": [
    {
     "data": {
      "text/plain": [
       "[10, 11, 12]"
      ]
     },
     "execution_count": 19,
     "metadata": {},
     "output_type": "execute_result"
    }
   ],
   "source": [
    "numeros"
   ]
  },
  {
   "cell_type": "markdown",
   "id": "35c4cd9e",
   "metadata": {},
   "source": [
    "pop - remove e retorna o elemento com o índice especificado."
   ]
  },
  {
   "cell_type": "code",
   "execution_count": 20,
   "id": "8e8b4bdf",
   "metadata": {},
   "outputs": [],
   "source": [
    "numeros = ['k', 'm', 'z', 'a', 'b', 'o']"
   ]
  },
  {
   "cell_type": "code",
   "execution_count": 21,
   "id": "f494255c",
   "metadata": {},
   "outputs": [
    {
     "data": {
      "text/plain": [
       "'o'"
      ]
     },
     "execution_count": 21,
     "metadata": {},
     "output_type": "execute_result"
    }
   ],
   "source": [
    "# Se não inserirmos o índice, o último elemento será removido\n",
    "numeros.pop()"
   ]
  },
  {
   "cell_type": "code",
   "execution_count": 22,
   "id": "2dfeb835",
   "metadata": {},
   "outputs": [
    {
     "data": {
      "text/plain": [
       "['k', 'm', 'z', 'a', 'b']"
      ]
     },
     "execution_count": 22,
     "metadata": {},
     "output_type": "execute_result"
    }
   ],
   "source": [
    "numeros"
   ]
  },
  {
   "cell_type": "code",
   "execution_count": 23,
   "id": "c12bee4e",
   "metadata": {},
   "outputs": [
    {
     "data": {
      "text/plain": [
       "'m'"
      ]
     },
     "execution_count": 23,
     "metadata": {},
     "output_type": "execute_result"
    }
   ],
   "source": [
    "# Remove e retorna o elemento com índice 1\n",
    "numeros.pop(1)"
   ]
  },
  {
   "cell_type": "code",
   "execution_count": 24,
   "id": "34ab82d3",
   "metadata": {},
   "outputs": [
    {
     "data": {
      "text/plain": [
       "['k', 'z', 'a', 'b']"
      ]
     },
     "execution_count": 24,
     "metadata": {},
     "output_type": "execute_result"
    }
   ],
   "source": [
    "numeros"
   ]
  },
  {
   "cell_type": "markdown",
   "id": "8a384d77",
   "metadata": {},
   "source": [
    "Também podemos deletar elementos de uma lista com a instrução del:"
   ]
  },
  {
   "cell_type": "code",
   "execution_count": 25,
   "id": "b31524ab",
   "metadata": {},
   "outputs": [],
   "source": [
    "# Deletamos o item de índice 0\n",
    "letras = ['k', 'i', 'j', 'm']\n",
    "del letras[0]"
   ]
  },
  {
   "cell_type": "code",
   "execution_count": 26,
   "id": "4fc7bfe7",
   "metadata": {},
   "outputs": [
    {
     "data": {
      "text/plain": [
       "['i', 'j', 'm']"
      ]
     },
     "execution_count": 26,
     "metadata": {},
     "output_type": "execute_result"
    }
   ],
   "source": [
    "letras"
   ]
  },
  {
   "cell_type": "markdown",
   "id": "61b8ac1b",
   "metadata": {},
   "source": [
    "Podemos deletar completamente a lista:"
   ]
  },
  {
   "cell_type": "code",
   "execution_count": 27,
   "id": "8a70f870",
   "metadata": {},
   "outputs": [],
   "source": [
    "del letras"
   ]
  },
  {
   "cell_type": "markdown",
   "id": "a25ecaa5",
   "metadata": {},
   "source": [
    "Já não temos mais a lista letras. Se tentarmos acessá-la novamente teremos: NameError.\n",
    "\n",
    "clear - remove todos os elementos da lista."
   ]
  },
  {
   "cell_type": "code",
   "execution_count": 28,
   "id": "b3bccb50",
   "metadata": {},
   "outputs": [],
   "source": [
    "letras = ['abc','ab','a']\n",
    "letras.clear()"
   ]
  },
  {
   "cell_type": "code",
   "execution_count": 29,
   "id": "206fcab2",
   "metadata": {},
   "outputs": [
    {
     "data": {
      "text/plain": [
       "[]"
      ]
     },
     "execution_count": 29,
     "metadata": {},
     "output_type": "execute_result"
    }
   ],
   "source": [
    "letras"
   ]
  },
  {
   "cell_type": "markdown",
   "id": "1cfc0672",
   "metadata": {},
   "source": [
    "count - retorna o número de ocorrências de um valor especificado."
   ]
  },
  {
   "cell_type": "code",
   "execution_count": 30,
   "id": "f75795fe",
   "metadata": {},
   "outputs": [],
   "source": [
    "numeros = [1, 1, 1, 0, 0, 0, 5, 3, 1, 2]"
   ]
  },
  {
   "cell_type": "code",
   "execution_count": 31,
   "id": "75761273",
   "metadata": {},
   "outputs": [
    {
     "data": {
      "text/plain": [
       "4"
      ]
     },
     "execution_count": 31,
     "metadata": {},
     "output_type": "execute_result"
    }
   ],
   "source": [
    "# Conta o número de ocorrências do número 1\n",
    "numeros.count(1)"
   ]
  },
  {
   "cell_type": "code",
   "execution_count": 32,
   "id": "d2f265dc",
   "metadata": {},
   "outputs": [
    {
     "data": {
      "text/plain": [
       "3"
      ]
     },
     "execution_count": 32,
     "metadata": {},
     "output_type": "execute_result"
    }
   ],
   "source": [
    "numeros.count(0)"
   ]
  },
  {
   "cell_type": "markdown",
   "id": "3f33315b",
   "metadata": {},
   "source": [
    "reverse - inverte a ordem da lista."
   ]
  },
  {
   "cell_type": "code",
   "execution_count": 33,
   "id": "8d7f0ebb",
   "metadata": {},
   "outputs": [],
   "source": [
    "# Inverte a ordem da lista\n",
    "numeros = [10, 11, 12, 13, 14, 15]\n",
    "numeros.reverse()"
   ]
  },
  {
   "cell_type": "code",
   "execution_count": 34,
   "id": "4bf74a43",
   "metadata": {},
   "outputs": [
    {
     "data": {
      "text/plain": [
       "[15, 14, 13, 12, 11, 10]"
      ]
     },
     "execution_count": 34,
     "metadata": {},
     "output_type": "execute_result"
    }
   ],
   "source": [
    "numeros"
   ]
  },
  {
   "cell_type": "markdown",
   "id": "d7e0a662",
   "metadata": {},
   "source": [
    "sort - ordena a lista."
   ]
  },
  {
   "cell_type": "code",
   "execution_count": 35,
   "id": "75f565cb",
   "metadata": {},
   "outputs": [],
   "source": [
    "# Declara uma lista não ordenada\n",
    "numeros = [-10, 100, -1, 60, 76, 33, -30, 150]"
   ]
  },
  {
   "cell_type": "code",
   "execution_count": 36,
   "id": "61ed5c42",
   "metadata": {},
   "outputs": [
    {
     "data": {
      "text/plain": [
       "[-10, 100, -1, 60, 76, 33, -30, 150]"
      ]
     },
     "execution_count": 36,
     "metadata": {},
     "output_type": "execute_result"
    }
   ],
   "source": [
    "numeros"
   ]
  },
  {
   "cell_type": "code",
   "execution_count": 37,
   "id": "a4092c6e",
   "metadata": {},
   "outputs": [],
   "source": [
    "# Ordena a lista\n",
    "numeros.sort()"
   ]
  },
  {
   "cell_type": "code",
   "execution_count": 38,
   "id": "4df7e5cc",
   "metadata": {},
   "outputs": [
    {
     "data": {
      "text/plain": [
       "[-30, -10, -1, 33, 60, 76, 100, 150]"
      ]
     },
     "execution_count": 38,
     "metadata": {},
     "output_type": "execute_result"
    }
   ],
   "source": [
    "numeros"
   ]
  },
  {
   "cell_type": "markdown",
   "id": "562e2e05",
   "metadata": {},
   "source": [
    "index - retorna o índice do primeiro elemento com o valor especificado. Sintaxe:\n",
    "\n",
    " * index(value, start=0,stop)"
   ]
  },
  {
   "cell_type": "code",
   "execution_count": 39,
   "id": "46db3372",
   "metadata": {},
   "outputs": [],
   "source": [
    "lista = [5, 6, 7, 8]"
   ]
  },
  {
   "cell_type": "code",
   "execution_count": 40,
   "id": "6dd14a35",
   "metadata": {},
   "outputs": [
    {
     "data": {
      "text/plain": [
       "0"
      ]
     },
     "execution_count": 40,
     "metadata": {},
     "output_type": "execute_result"
    }
   ],
   "source": [
    "# Retorna o índice da primeira ocorrência do número 5\n",
    "lista.index(5)"
   ]
  },
  {
   "cell_type": "code",
   "execution_count": 41,
   "id": "02abbcd7",
   "metadata": {},
   "outputs": [
    {
     "data": {
      "text/plain": [
       "2"
      ]
     },
     "execution_count": 41,
     "metadata": {},
     "output_type": "execute_result"
    }
   ],
   "source": [
    "# Retorna o índice da primeira ocorrência do número 3\n",
    "numeros = [1, 2, 3, 3, 3, 3, 3, 7, 7, 8, 9, 10, 10, 11, 12, 11]\n",
    "numeros.index(3)"
   ]
  },
  {
   "cell_type": "code",
   "execution_count": 42,
   "id": "e8a4f3b8",
   "metadata": {},
   "outputs": [
    {
     "data": {
      "text/plain": [
       "5"
      ]
     },
     "execution_count": 42,
     "metadata": {},
     "output_type": "execute_result"
    }
   ],
   "source": [
    "# Retorna o índice do valor 3, começando a contar a partir do índice 5 da lista\n",
    "numeros.index(3, 5)"
   ]
  }
 ],
 "metadata": {
  "kernelspec": {
   "display_name": "Python 3 (ipykernel)",
   "language": "python",
   "name": "python3"
  },
  "language_info": {
   "codemirror_mode": {
    "name": "ipython",
    "version": 3
   },
   "file_extension": ".py",
   "mimetype": "text/x-python",
   "name": "python",
   "nbconvert_exporter": "python",
   "pygments_lexer": "ipython3",
   "version": "3.9.7"
  }
 },
 "nbformat": 4,
 "nbformat_minor": 5
}

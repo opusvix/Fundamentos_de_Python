{
 "cells": [
  {
   "cell_type": "markdown",
   "id": "33321e02",
   "metadata": {},
   "source": [
    "## 4. Números\n",
    "\n",
    "Tipos númericos:\n",
    "   * int\n",
    "   * float\n",
    "   * complex"
   ]
  },
  {
   "cell_type": "code",
   "execution_count": 1,
   "id": "a4853d3e",
   "metadata": {},
   "outputs": [
    {
     "name": "stdout",
     "output_type": "stream",
     "text": [
      "<class 'int'>\n",
      "<class 'float'>\n",
      "<class 'complex'>\n"
     ]
    }
   ],
   "source": [
    "x = 10  # int\n",
    "y = 10.5  # float\n",
    "z = 10+1j  # complex\n",
    "\n",
    "print(type(x))\n",
    "print(type(y))\n",
    "print(type(z))"
   ]
  },
  {
   "cell_type": "markdown",
   "id": "49aba02b",
   "metadata": {},
   "source": [
    "* Conversão (casting)"
   ]
  },
  {
   "cell_type": "code",
   "execution_count": 2,
   "id": "4c0b8118",
   "metadata": {},
   "outputs": [
    {
     "name": "stdout",
     "output_type": "stream",
     "text": [
      "Digite sua idade: 50\n"
     ]
    },
    {
     "data": {
      "text/plain": [
       "int"
      ]
     },
     "execution_count": 2,
     "metadata": {},
     "output_type": "execute_result"
    }
   ],
   "source": [
    "idade = int(input(\"Digite sua idade: \"))\n",
    "type(idade)"
   ]
  },
  {
   "cell_type": "code",
   "execution_count": 3,
   "id": "d172206c",
   "metadata": {},
   "outputs": [
    {
     "name": "stdout",
     "output_type": "stream",
     "text": [
      "Digite seu peso: 89\n"
     ]
    }
   ],
   "source": [
    "peso = float(input(\"Digite seu peso: \"))"
   ]
  },
  {
   "cell_type": "code",
   "execution_count": 4,
   "id": "11929462",
   "metadata": {},
   "outputs": [
    {
     "data": {
      "text/plain": [
       "float"
      ]
     },
     "execution_count": 4,
     "metadata": {},
     "output_type": "execute_result"
    }
   ],
   "source": [
    "type(peso)"
   ]
  },
  {
   "cell_type": "code",
   "execution_count": 5,
   "id": "bf309090",
   "metadata": {},
   "outputs": [],
   "source": [
    "numero = \"10\""
   ]
  },
  {
   "cell_type": "code",
   "execution_count": 6,
   "id": "af206ed4",
   "metadata": {},
   "outputs": [
    {
     "name": "stdout",
     "output_type": "stream",
     "text": [
      "<class 'int'>\n"
     ]
    }
   ],
   "source": [
    "print(type(int(numero)))"
   ]
  },
  {
   "cell_type": "code",
   "execution_count": 7,
   "id": "10b5e428",
   "metadata": {},
   "outputs": [
    {
     "data": {
      "text/plain": [
       "10"
      ]
     },
     "execution_count": 7,
     "metadata": {},
     "output_type": "execute_result"
    }
   ],
   "source": [
    "int(10.5)"
   ]
  },
  {
   "cell_type": "code",
   "execution_count": 8,
   "id": "9a71cc25",
   "metadata": {},
   "outputs": [],
   "source": [
    "numero = float(100)"
   ]
  },
  {
   "cell_type": "code",
   "execution_count": 9,
   "id": "b2d407fd",
   "metadata": {},
   "outputs": [
    {
     "name": "stdout",
     "output_type": "stream",
     "text": [
      "<class 'float'>\n"
     ]
    }
   ],
   "source": [
    "print(type(numero))"
   ]
  },
  {
   "cell_type": "code",
   "execution_count": 10,
   "id": "d40214c7",
   "metadata": {},
   "outputs": [
    {
     "data": {
      "text/plain": [
       "10"
      ]
     },
     "execution_count": 10,
     "metadata": {},
     "output_type": "execute_result"
    }
   ],
   "source": [
    "int(\"10\")"
   ]
  },
  {
   "cell_type": "markdown",
   "id": "41bdb74f",
   "metadata": {},
   "source": [
    "* Usando o Python como calculadora"
   ]
  },
  {
   "cell_type": "code",
   "execution_count": 11,
   "id": "eb02a14d",
   "metadata": {},
   "outputs": [
    {
     "data": {
      "text/plain": [
       "20.5"
      ]
     },
     "execution_count": 11,
     "metadata": {},
     "output_type": "execute_result"
    }
   ],
   "source": [
    "10.5 + 10"
   ]
  },
  {
   "cell_type": "code",
   "execution_count": 12,
   "id": "938ed55a",
   "metadata": {},
   "outputs": [
    {
     "name": "stdout",
     "output_type": "stream",
     "text": [
      "20.5\n"
     ]
    }
   ],
   "source": [
    "print(10.5 + 10)"
   ]
  },
  {
   "cell_type": "code",
   "execution_count": 13,
   "id": "75ffad13",
   "metadata": {},
   "outputs": [
    {
     "name": "stdout",
     "output_type": "stream",
     "text": [
      "12.2\n"
     ]
    }
   ],
   "source": [
    "print(17.2 - 5)"
   ]
  },
  {
   "cell_type": "code",
   "execution_count": 14,
   "id": "0a537c60",
   "metadata": {},
   "outputs": [
    {
     "name": "stdout",
     "output_type": "stream",
     "text": [
      "2.0\n"
     ]
    }
   ],
   "source": [
    "print(10 / 5)"
   ]
  },
  {
   "cell_type": "code",
   "execution_count": 15,
   "id": "b4f96eb9",
   "metadata": {},
   "outputs": [
    {
     "name": "stdout",
     "output_type": "stream",
     "text": [
      "3.3333333333333335\n"
     ]
    }
   ],
   "source": [
    "print(10 / 3)"
   ]
  },
  {
   "cell_type": "code",
   "execution_count": 16,
   "id": "9f58e7eb",
   "metadata": {},
   "outputs": [
    {
     "name": "stdout",
     "output_type": "stream",
     "text": [
      "3\n"
     ]
    }
   ],
   "source": [
    "print(10 // 3)"
   ]
  },
  {
   "cell_type": "code",
   "execution_count": 17,
   "id": "8c25c011",
   "metadata": {},
   "outputs": [
    {
     "name": "stdout",
     "output_type": "stream",
     "text": [
      "0\n"
     ]
    }
   ],
   "source": [
    "print(8 % 2)"
   ]
  },
  {
   "cell_type": "code",
   "execution_count": 18,
   "id": "5bae034f",
   "metadata": {},
   "outputs": [
    {
     "name": "stdout",
     "output_type": "stream",
     "text": [
      "1\n"
     ]
    }
   ],
   "source": [
    "print(9 % 2)"
   ]
  },
  {
   "cell_type": "code",
   "execution_count": 19,
   "id": "34bc8781",
   "metadata": {},
   "outputs": [
    {
     "name": "stdout",
     "output_type": "stream",
     "text": [
      "4\n"
     ]
    }
   ],
   "source": [
    "print(2 ** 2)"
   ]
  },
  {
   "cell_type": "code",
   "execution_count": 20,
   "id": "5bd7142b",
   "metadata": {},
   "outputs": [
    {
     "name": "stdout",
     "output_type": "stream",
     "text": [
      "500\n"
     ]
    }
   ],
   "source": [
    "print(50 * 10)"
   ]
  },
  {
   "cell_type": "code",
   "execution_count": 21,
   "id": "1377d4e3",
   "metadata": {},
   "outputs": [
    {
     "name": "stdout",
     "output_type": "stream",
     "text": [
      "2.0\n"
     ]
    }
   ],
   "source": [
    "print(4 ** 0.5)"
   ]
  }
 ],
 "metadata": {
  "kernelspec": {
   "display_name": "Python 3 (ipykernel)",
   "language": "python",
   "name": "python3"
  },
  "language_info": {
   "codemirror_mode": {
    "name": "ipython",
    "version": 3
   },
   "file_extension": ".py",
   "mimetype": "text/x-python",
   "name": "python",
   "nbconvert_exporter": "python",
   "pygments_lexer": "ipython3",
   "version": "3.9.7"
  }
 },
 "nbformat": 4,
 "nbformat_minor": 5
}

{
 "cells": [
  {
   "cell_type": "markdown",
   "id": "627d0d4e",
   "metadata": {},
   "source": [
    "## 1. Fundamentos de Python    \n",
    "Tópicos:\n",
    "\n",
    "    1.Primeiros passos!\n",
    "    2.Variáveis\n",
    "    3.Números\n",
    "    4.Strings\n",
    "    5.Operadores\n",
    "    6.Listas\n",
    "    7.Tuplas\n",
    "    8.Dicionários\n",
    "    9.Estruturas condicionais"
   ]
  }
 ],
 "metadata": {
  "kernelspec": {
   "display_name": "Python 3 (ipykernel)",
   "language": "python",
   "name": "python3"
  },
  "language_info": {
   "codemirror_mode": {
    "name": "ipython",
    "version": 3
   },
   "file_extension": ".py",
   "mimetype": "text/x-python",
   "name": "python",
   "nbconvert_exporter": "python",
   "pygments_lexer": "ipython3",
   "version": "3.9.7"
  }
 },
 "nbformat": 4,
 "nbformat_minor": 5
}

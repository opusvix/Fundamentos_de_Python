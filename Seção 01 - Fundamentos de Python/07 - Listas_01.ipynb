{
 "cells": [
  {
   "cell_type": "markdown",
   "id": "54d61918",
   "metadata": {},
   "source": [
    "## 7. Listas\n",
    "\n",
    "   * As listas podem ser utilizadas para armazenar valores. Esses valores podem ser strings, tuplas, outras listas,dicionários, dentre outros."
   ]
  },
  {
   "cell_type": "code",
   "execution_count": 1,
   "id": "72647a90",
   "metadata": {},
   "outputs": [],
   "source": [
    "lista1 = [10, 20, 30, 40]"
   ]
  },
  {
   "cell_type": "code",
   "execution_count": 2,
   "id": "2b035df6",
   "metadata": {},
   "outputs": [
    {
     "data": {
      "text/plain": [
       "[10, 20, 30, 40]"
      ]
     },
     "execution_count": 2,
     "metadata": {},
     "output_type": "execute_result"
    }
   ],
   "source": [
    "lista1"
   ]
  },
  {
   "cell_type": "code",
   "execution_count": 3,
   "id": "905aeb0d",
   "metadata": {},
   "outputs": [],
   "source": [
    "lista = [1, 2, 3, 4]"
   ]
  },
  {
   "cell_type": "code",
   "execution_count": 4,
   "id": "5a565a5b",
   "metadata": {},
   "outputs": [
    {
     "name": "stdout",
     "output_type": "stream",
     "text": [
      "[1, 2, 3, 4]\n"
     ]
    }
   ],
   "source": [
    "print(lista)"
   ]
  },
  {
   "cell_type": "code",
   "execution_count": 5,
   "id": "dc1aa763",
   "metadata": {},
   "outputs": [],
   "source": [
    "lista2 = ['Hello World Python!', 10 , 20, 30, [1, 2, 3], (45, 50), True, False]"
   ]
  },
  {
   "cell_type": "code",
   "execution_count": 6,
   "id": "03f4b43d",
   "metadata": {},
   "outputs": [
    {
     "data": {
      "text/plain": [
       "list"
      ]
     },
     "execution_count": 6,
     "metadata": {},
     "output_type": "execute_result"
    }
   ],
   "source": [
    "type(lista1)"
   ]
  },
  {
   "cell_type": "markdown",
   "id": "08c46aa6",
   "metadata": {},
   "source": [
    "* Acessando elementos de uma lista via índice"
   ]
  },
  {
   "cell_type": "code",
   "execution_count": 7,
   "id": "3f6d5ed8",
   "metadata": {},
   "outputs": [],
   "source": [
    "lista = ['A', 'B', 'C']"
   ]
  },
  {
   "cell_type": "code",
   "execution_count": 8,
   "id": "554065b1",
   "metadata": {
    "scrolled": true
   },
   "outputs": [
    {
     "data": {
      "text/plain": [
       "'A'"
      ]
     },
     "execution_count": 8,
     "metadata": {},
     "output_type": "execute_result"
    }
   ],
   "source": [
    "lista[0]"
   ]
  },
  {
   "cell_type": "code",
   "execution_count": 9,
   "id": "71774a10",
   "metadata": {},
   "outputs": [
    {
     "data": {
      "text/plain": [
       "'B'"
      ]
     },
     "execution_count": 9,
     "metadata": {},
     "output_type": "execute_result"
    }
   ],
   "source": [
    "lista[1]"
   ]
  },
  {
   "cell_type": "markdown",
   "id": "5f60589b",
   "metadata": {},
   "source": [
    "* Modificação dos elementos de uma lista"
   ]
  },
  {
   "cell_type": "code",
   "execution_count": 10,
   "id": "38e09b74",
   "metadata": {},
   "outputs": [],
   "source": [
    "lista[0] = 'Z'"
   ]
  },
  {
   "cell_type": "code",
   "execution_count": 11,
   "id": "83a0262f",
   "metadata": {},
   "outputs": [
    {
     "data": {
      "text/plain": [
       "['Z', 'B', 'C']"
      ]
     },
     "execution_count": 11,
     "metadata": {},
     "output_type": "execute_result"
    }
   ],
   "source": [
    "lista"
   ]
  },
  {
   "cell_type": "markdown",
   "id": "ceeb13e3",
   "metadata": {},
   "source": [
    "* Outra forma de indexação"
   ]
  },
  {
   "cell_type": "code",
   "execution_count": 12,
   "id": "bc6274de",
   "metadata": {},
   "outputs": [],
   "source": [
    "b = ['a', 'b', 'c', 'd', 'h']"
   ]
  },
  {
   "cell_type": "code",
   "execution_count": 13,
   "id": "25aa062f",
   "metadata": {},
   "outputs": [
    {
     "data": {
      "text/plain": [
       "'h'"
      ]
     },
     "execution_count": 13,
     "metadata": {},
     "output_type": "execute_result"
    }
   ],
   "source": [
    "b[-1]"
   ]
  },
  {
   "cell_type": "code",
   "execution_count": 14,
   "id": "3de0f988",
   "metadata": {},
   "outputs": [
    {
     "data": {
      "text/plain": [
       "'d'"
      ]
     },
     "execution_count": 14,
     "metadata": {},
     "output_type": "execute_result"
    }
   ],
   "source": [
    "b[-2]"
   ]
  },
  {
   "cell_type": "code",
   "execution_count": 15,
   "id": "06e8c4ab",
   "metadata": {},
   "outputs": [
    {
     "data": {
      "text/plain": [
       "'a'"
      ]
     },
     "execution_count": 15,
     "metadata": {},
     "output_type": "execute_result"
    }
   ],
   "source": [
    "b[-0]"
   ]
  },
  {
   "cell_type": "code",
   "execution_count": 16,
   "id": "afa89bea",
   "metadata": {},
   "outputs": [
    {
     "data": {
      "text/plain": [
       "'b'"
      ]
     },
     "execution_count": 16,
     "metadata": {},
     "output_type": "execute_result"
    }
   ],
   "source": [
    "b[-4]"
   ]
  },
  {
   "cell_type": "markdown",
   "id": "273b85db",
   "metadata": {},
   "source": [
    "* Então, podemos acessar os elementos de uma lista de forma contrária (indexação negativa), do fim para o início. Na nossa lista b teríamos o seguinte:\n",
    "\n",
    "    * 'h' - índice -1\n",
    "    * 'd' - índice -2\n",
    "    * 'c' - índice -3\n",
    "    * 'a' - índice -4\n",
    "\n",
    "* Máximo, mínimo, soma e tamanho de uma lista"
   ]
  },
  {
   "cell_type": "code",
   "execution_count": 17,
   "id": "f3555a1c",
   "metadata": {},
   "outputs": [],
   "source": [
    "num = [31, 914, 236, 376, 140, 705]"
   ]
  },
  {
   "cell_type": "code",
   "execution_count": 18,
   "id": "e8c35e75",
   "metadata": {},
   "outputs": [
    {
     "data": {
      "text/plain": [
       "914"
      ]
     },
     "execution_count": 18,
     "metadata": {},
     "output_type": "execute_result"
    }
   ],
   "source": [
    "max(num)"
   ]
  },
  {
   "cell_type": "code",
   "execution_count": 19,
   "id": "9e537eb9",
   "metadata": {},
   "outputs": [
    {
     "data": {
      "text/plain": [
       "31"
      ]
     },
     "execution_count": 19,
     "metadata": {},
     "output_type": "execute_result"
    }
   ],
   "source": [
    "min(num)"
   ]
  },
  {
   "cell_type": "code",
   "execution_count": 20,
   "id": "65d03c80",
   "metadata": {},
   "outputs": [
    {
     "data": {
      "text/plain": [
       "6"
      ]
     },
     "execution_count": 20,
     "metadata": {},
     "output_type": "execute_result"
    }
   ],
   "source": [
    "len(num)"
   ]
  },
  {
   "cell_type": "code",
   "execution_count": 21,
   "id": "82713d1e",
   "metadata": {},
   "outputs": [
    {
     "data": {
      "text/plain": [
       "2402"
      ]
     },
     "execution_count": 21,
     "metadata": {},
     "output_type": "execute_result"
    }
   ],
   "source": [
    "sum(num)"
   ]
  },
  {
   "cell_type": "code",
   "execution_count": 22,
   "id": "3831bb1d",
   "metadata": {},
   "outputs": [],
   "source": [
    "media = sum(num) / len(num)"
   ]
  },
  {
   "cell_type": "code",
   "execution_count": 23,
   "id": "0e62b488",
   "metadata": {},
   "outputs": [
    {
     "data": {
      "text/plain": [
       "400.3333333333333"
      ]
     },
     "execution_count": 23,
     "metadata": {},
     "output_type": "execute_result"
    }
   ],
   "source": [
    "media"
   ]
  },
  {
   "cell_type": "code",
   "execution_count": 24,
   "id": "07a857ec",
   "metadata": {},
   "outputs": [
    {
     "name": "stdout",
     "output_type": "stream",
     "text": [
      "Valor máximo: 914\n",
      "Valor mínimo: 31\n",
      "Números de elementos: 6\n",
      "Soma dos elementos: 2402\n"
     ]
    }
   ],
   "source": [
    "print(f'Valor máximo: {max(num)}')\n",
    "print(f'Valor mínimo: {min(num)}')\n",
    "print(f'Números de elementos: {len(num)}')\n",
    "print(f'Soma dos elementos: {sum(num)}')"
   ]
  },
  {
   "cell_type": "markdown",
   "id": "2539d7b1",
   "metadata": {},
   "source": [
    "* Como unir listas"
   ]
  },
  {
   "cell_type": "code",
   "execution_count": 25,
   "id": "015be30c",
   "metadata": {},
   "outputs": [
    {
     "name": "stdout",
     "output_type": "stream",
     "text": [
      "['a', 'b', 'c', 'd', 'e', 'f', 'g']\n"
     ]
    }
   ],
   "source": [
    "lista1 = ['a', 'b', 'c']\n",
    "lista2 = ['d', 'e', 'f', 'g']\n",
    "uniao = lista1 + lista2\n",
    "print(uniao)"
   ]
  },
  {
   "cell_type": "markdown",
   "id": "1574d51c",
   "metadata": {},
   "source": [
    "* Repetindo elementos"
   ]
  },
  {
   "cell_type": "code",
   "execution_count": 26,
   "id": "7e1842b9",
   "metadata": {},
   "outputs": [
    {
     "data": {
      "text/plain": [
       "[0, 1, 2, 0, 1, 2, 0, 1, 2, 0, 1, 2]"
      ]
     },
     "execution_count": 26,
     "metadata": {},
     "output_type": "execute_result"
    }
   ],
   "source": [
    "h = [0, 1, 2]\n",
    "h * 4"
   ]
  },
  {
   "cell_type": "code",
   "execution_count": 27,
   "id": "0c20a89f",
   "metadata": {},
   "outputs": [
    {
     "data": {
      "text/plain": [
       "'PythonPythonPythonPython'"
      ]
     },
     "execution_count": 27,
     "metadata": {},
     "output_type": "execute_result"
    }
   ],
   "source": [
    "string = \" Python \"\n",
    "string * 4"
   ]
  },
  {
   "cell_type": "code",
   "execution_count": null,
   "id": "d6d4fd33",
   "metadata": {},
   "outputs": [],
   "source": []
  }
 ],
 "metadata": {
  "kernelspec": {
   "display_name": "Python 3 (ipykernel)",
   "language": "python",
   "name": "python3"
  },
  "language_info": {
   "codemirror_mode": {
    "name": "ipython",
    "version": 3
   },
   "file_extension": ".py",
   "mimetype": "text/x-python",
   "name": "python",
   "nbconvert_exporter": "python",
   "pygments_lexer": "ipython3",
   "version": "3.9.7"
  }
 },
 "nbformat": 4,
 "nbformat_minor": 5
}

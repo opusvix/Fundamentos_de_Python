{
 "cells": [
  {
   "cell_type": "markdown",
   "id": "68a19702",
   "metadata": {},
   "source": [
    "## 2. Primeiros passos!"
   ]
  },
  {
   "cell_type": "code",
   "execution_count": 1,
   "id": "0ddabaaa",
   "metadata": {},
   "outputs": [
    {
     "name": "stdout",
     "output_type": "stream",
     "text": [
      "Hello World!\n"
     ]
    }
   ],
   "source": [
    "print(\"Hello World!\")"
   ]
  },
  {
   "cell_type": "code",
   "execution_count": 2,
   "id": "b844235e",
   "metadata": {},
   "outputs": [
    {
     "name": "stdout",
     "output_type": "stream",
     "text": [
      "Hello World\n"
     ]
    }
   ],
   "source": [
    "print('Hello World')"
   ]
  },
  {
   "cell_type": "code",
   "execution_count": 3,
   "id": "307de2a3",
   "metadata": {},
   "outputs": [
    {
     "name": "stdout",
     "output_type": "stream",
     "text": [
      "Olá, Rafael!\n",
      "Sua idade é 17 annos.\n",
      "Seu peso é 87 kg.\n"
     ]
    }
   ],
   "source": [
    "print('Olá, Rafael!')\n",
    "print(\"Sua idade é 17 annos.\")\n",
    "print(\"Seu peso é 87 kg.\")"
   ]
  },
  {
   "cell_type": "code",
   "execution_count": 4,
   "id": "09f778c9",
   "metadata": {},
   "outputs": [
    {
     "name": "stdout",
     "output_type": "stream",
     "text": [
      "Olá, Carlos !\n",
      "Sua idade é 18 anos.\n",
      "Seu peso é 67 kg.\n"
     ]
    }
   ],
   "source": [
    "nome = \"Carlos\"\n",
    "idade = \"18\"\n",
    "peso = \"67\"\n",
    "\n",
    "print(\"Olá, \" + nome + \"!\")\n",
    "print(\"Sua idade é \" + idade + \" anos.\")\n",
    "print(\"Seu peso é \" + peso + \" kg.\")"
   ]
  },
  {
   "cell_type": "code",
   "execution_count": 5,
   "id": "a583680f",
   "metadata": {},
   "outputs": [
    {
     "name": "stdout",
     "output_type": "stream",
     "text": [
      "Olá, Carlos!\n",
      "Sua idade é 18 anos.\n",
      "Seu peso é 67 kg.\n"
     ]
    }
   ],
   "source": [
    "print(f\"Olá, {nome}!\")\n",
    "print(f\"Sua idade é {idade} anos.\")\n",
    "print(f\"Seu peso é {peso} kg.\")"
   ]
  }
 ],
 "metadata": {
  "kernelspec": {
   "display_name": "Python 3 (ipykernel)",
   "language": "python",
   "name": "python3"
  },
  "language_info": {
   "codemirror_mode": {
    "name": "ipython",
    "version": 3
   },
   "file_extension": ".py",
   "mimetype": "text/x-python",
   "name": "python",
   "nbconvert_exporter": "python",
   "pygments_lexer": "ipython3",
   "version": "3.9.7"
  }
 },
 "nbformat": 4,
 "nbformat_minor": 5
}

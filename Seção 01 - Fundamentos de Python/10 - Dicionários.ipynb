{
 "cells": [
  {
   "cell_type": "markdown",
   "id": "2d97ba03",
   "metadata": {},
   "source": [
    "## 10. Dicionários\n",
    "\n",
    "* Tipo de dado chave-valor, ou seja, para cada chave associa um valor correspondente.\n",
    "* Usamos dicionários para criar DataFrames na biblioteca Pandas (DataScience)."
   ]
  },
  {
   "cell_type": "code",
   "execution_count": 1,
   "id": "606a2287",
   "metadata": {},
   "outputs": [],
   "source": [
    "dict1 = {\n",
    "    'chave1': 'valor1',\n",
    "    'chave2': 'valor2'\n",
    "}"
   ]
  },
  {
   "cell_type": "code",
   "execution_count": 2,
   "id": "05cafc00",
   "metadata": {},
   "outputs": [
    {
     "data": {
      "text/plain": [
       "{'chave1': 'valor1', 'chave2': 'valor2'}"
      ]
     },
     "execution_count": 2,
     "metadata": {},
     "output_type": "execute_result"
    }
   ],
   "source": [
    "dict1"
   ]
  },
  {
   "cell_type": "code",
   "execution_count": 3,
   "id": "1e126c64",
   "metadata": {},
   "outputs": [
    {
     "data": {
      "text/plain": [
       "dict"
      ]
     },
     "execution_count": 3,
     "metadata": {},
     "output_type": "execute_result"
    }
   ],
   "source": [
    "type(dict1)"
   ]
  },
  {
   "cell_type": "code",
   "execution_count": 4,
   "id": "6caba8d2",
   "metadata": {},
   "outputs": [],
   "source": [
    "dados = {'nome': 'PS4', 'valor': 2500, 'estoque': 50, 'categoria': 'vídeo game'}"
   ]
  },
  {
   "cell_type": "code",
   "execution_count": 5,
   "id": "5ab453f2",
   "metadata": {},
   "outputs": [
    {
     "data": {
      "text/plain": [
       "{'nome': 'PS4', 'valor': 2500, 'estoque': 50, 'categoria': 'vídeo game'}"
      ]
     },
     "execution_count": 5,
     "metadata": {},
     "output_type": "execute_result"
    }
   ],
   "source": [
    "dados"
   ]
  },
  {
   "cell_type": "markdown",
   "id": "43496101",
   "metadata": {},
   "source": [
    "* Acessando elementos"
   ]
  },
  {
   "cell_type": "code",
   "execution_count": 6,
   "id": "b848f577",
   "metadata": {},
   "outputs": [
    {
     "data": {
      "text/plain": [
       "'PS4'"
      ]
     },
     "execution_count": 6,
     "metadata": {},
     "output_type": "execute_result"
    }
   ],
   "source": [
    "dados['nome']"
   ]
  },
  {
   "cell_type": "code",
   "execution_count": 7,
   "id": "141b850b",
   "metadata": {},
   "outputs": [
    {
     "data": {
      "text/plain": [
       "2500"
      ]
     },
     "execution_count": 7,
     "metadata": {},
     "output_type": "execute_result"
    }
   ],
   "source": [
    "dados['valor']"
   ]
  },
  {
   "cell_type": "code",
   "execution_count": 8,
   "id": "6ea2c1fd",
   "metadata": {},
   "outputs": [],
   "source": [
    "dict2 = {\n",
    "    'chave1': [1, 3, 5],\n",
    "    'chave2': [2, 4, 6],\n",
    "    'chave3': (7, 9, 11),\n",
    "    'chave4': (13, 15, 17)\n",
    "}"
   ]
  },
  {
   "cell_type": "code",
   "execution_count": 9,
   "id": "d520c5bb",
   "metadata": {},
   "outputs": [
    {
     "data": {
      "text/plain": [
       "3"
      ]
     },
     "execution_count": 9,
     "metadata": {},
     "output_type": "execute_result"
    }
   ],
   "source": [
    "dict2['chave1'][1]"
   ]
  },
  {
   "cell_type": "code",
   "execution_count": 10,
   "id": "2a038e71",
   "metadata": {},
   "outputs": [
    {
     "data": {
      "text/plain": [
       "6"
      ]
     },
     "execution_count": 10,
     "metadata": {},
     "output_type": "execute_result"
    }
   ],
   "source": [
    "dict2['chave2'][2]"
   ]
  },
  {
   "cell_type": "code",
   "execution_count": 11,
   "id": "d73eb94a",
   "metadata": {},
   "outputs": [
    {
     "data": {
      "text/plain": [
       "7"
      ]
     },
     "execution_count": 11,
     "metadata": {},
     "output_type": "execute_result"
    }
   ],
   "source": [
    "dict2['chave3'][0]"
   ]
  },
  {
   "cell_type": "code",
   "execution_count": 12,
   "id": "1f101d7d",
   "metadata": {},
   "outputs": [
    {
     "data": {
      "text/plain": [
       "15"
      ]
     },
     "execution_count": 12,
     "metadata": {},
     "output_type": "execute_result"
    }
   ],
   "source": [
    "dict2['chave4'][1]"
   ]
  },
  {
   "cell_type": "markdown",
   "id": "b9b8d627",
   "metadata": {},
   "source": [
    "* Mudando valores"
   ]
  },
  {
   "cell_type": "code",
   "execution_count": 13,
   "id": "943d6838",
   "metadata": {},
   "outputs": [],
   "source": [
    "dados = {'nome': 'PS4', 'valor': 2500, 'estoque': 50, 'categoria': 'vídeo game'}"
   ]
  },
  {
   "cell_type": "code",
   "execution_count": 14,
   "id": "965fb4be",
   "metadata": {},
   "outputs": [],
   "source": [
    "dados['valor'] = 3000"
   ]
  },
  {
   "cell_type": "code",
   "execution_count": 15,
   "id": "dd75b01f",
   "metadata": {},
   "outputs": [
    {
     "data": {
      "text/plain": [
       "{'nome': 'PS4', 'valor': 3000, 'estoque': 50, 'categoria': 'vídeo game'}"
      ]
     },
     "execution_count": 15,
     "metadata": {},
     "output_type": "execute_result"
    }
   ],
   "source": [
    "dados"
   ]
  }
 ],
 "metadata": {
  "kernelspec": {
   "display_name": "Python 3 (ipykernel)",
   "language": "python",
   "name": "python3"
  },
  "language_info": {
   "codemirror_mode": {
    "name": "ipython",
    "version": 3
   },
   "file_extension": ".py",
   "mimetype": "text/x-python",
   "name": "python",
   "nbconvert_exporter": "python",
   "pygments_lexer": "ipython3",
   "version": "3.9.7"
  }
 },
 "nbformat": 4,
 "nbformat_minor": 5
}

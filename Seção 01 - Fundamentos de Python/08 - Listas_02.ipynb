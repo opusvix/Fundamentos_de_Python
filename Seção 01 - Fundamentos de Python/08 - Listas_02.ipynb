{
 "cells": [
  {
   "cell_type": "markdown",
   "id": "90e95859",
   "metadata": {},
   "source": [
    "## 8. Listas"
   ]
  },
  {
   "cell_type": "markdown",
   "id": "6ad9cd79",
   "metadata": {},
   "source": [
    "* Construtor list()"
   ]
  },
  {
   "cell_type": "code",
   "execution_count": 1,
   "id": "0aae2ca7",
   "metadata": {},
   "outputs": [],
   "source": [
    "tupla = (1, 2, 3, 4, 5)\n",
    "lista = list(tupla)"
   ]
  },
  {
   "cell_type": "code",
   "execution_count": 2,
   "id": "eed39076",
   "metadata": {},
   "outputs": [
    {
     "data": {
      "text/plain": [
       "tuple"
      ]
     },
     "execution_count": 2,
     "metadata": {},
     "output_type": "execute_result"
    }
   ],
   "source": [
    "type(tupla)"
   ]
  },
  {
   "cell_type": "code",
   "execution_count": 3,
   "id": "82001dc4",
   "metadata": {},
   "outputs": [
    {
     "data": {
      "text/plain": [
       "list"
      ]
     },
     "execution_count": 3,
     "metadata": {},
     "output_type": "execute_result"
    }
   ],
   "source": [
    "type(lista)"
   ]
  },
  {
   "cell_type": "markdown",
   "id": "42ca2dc0",
   "metadata": {},
   "source": [
    "Podemos criar uma lista com uma sequência de números inteiros por meio da função embutida range().\n",
    "\n",
    "   * Sintaxe: range(início, fim, passo)"
   ]
  },
  {
   "cell_type": "code",
   "execution_count": 4,
   "id": "dbf20265",
   "metadata": {},
   "outputs": [],
   "source": [
    "serie = list(range(2010, 2021))"
   ]
  },
  {
   "cell_type": "code",
   "execution_count": 5,
   "id": "5dc801ba",
   "metadata": {},
   "outputs": [
    {
     "data": {
      "text/plain": [
       "[2010, 2011, 2012, 2013, 2014, 2015, 2016, 2017, 2018, 2019, 2020]"
      ]
     },
     "execution_count": 5,
     "metadata": {},
     "output_type": "execute_result"
    }
   ],
   "source": [
    "serie"
   ]
  },
  {
   "cell_type": "markdown",
   "id": "bb166513",
   "metadata": {},
   "source": [
    "* Convertendo uma string em uma lista"
   ]
  },
  {
   "cell_type": "code",
   "execution_count": 6,
   "id": "e6c18cff",
   "metadata": {},
   "outputs": [
    {
     "data": {
      "text/plain": [
       "['Eu', 'amo', 'aprender', 'Python']"
      ]
     },
     "execution_count": 6,
     "metadata": {},
     "output_type": "execute_result"
    }
   ],
   "source": [
    "frase = 'Eu amo aprender Python'\n",
    "frase.split(sep = ' ')"
   ]
  },
  {
   "cell_type": "code",
   "execution_count": 7,
   "id": "6190d69b",
   "metadata": {},
   "outputs": [
    {
     "data": {
      "text/plain": [
       "['python', 'python', 'python', 'python']"
      ]
     },
     "execution_count": 7,
     "metadata": {},
     "output_type": "execute_result"
    }
   ],
   "source": [
    "y = 'python%python%python%python'\n",
    "y.split(sep = '%')"
   ]
  },
  {
   "cell_type": "markdown",
   "id": "3c850ac3",
   "metadata": {},
   "source": [
    "* Definindo listas em termos de variáveis"
   ]
  },
  {
   "cell_type": "code",
   "execution_count": 8,
   "id": "242a92a2",
   "metadata": {},
   "outputs": [],
   "source": [
    "num1 = 10\n",
    "num2 = 20\n",
    "num3 = 30\n",
    "\n",
    "lista = [num1, num2, num3]"
   ]
  },
  {
   "cell_type": "code",
   "execution_count": 9,
   "id": "88bc4de4",
   "metadata": {},
   "outputs": [
    {
     "data": {
      "text/plain": [
       "[10, 20, 30]"
      ]
     },
     "execution_count": 9,
     "metadata": {},
     "output_type": "execute_result"
    }
   ],
   "source": [
    "lista"
   ]
  },
  {
   "cell_type": "markdown",
   "id": "35b9f32c",
   "metadata": {},
   "source": [
    "* Desempacotando listas"
   ]
  },
  {
   "cell_type": "code",
   "execution_count": 10,
   "id": "187aead6",
   "metadata": {},
   "outputs": [],
   "source": [
    "valores = [350, 400, 900, 120]\n",
    "\n",
    "num1, num2, num3, num4 = valores"
   ]
  },
  {
   "cell_type": "code",
   "execution_count": 11,
   "id": "b27942b9",
   "metadata": {},
   "outputs": [
    {
     "data": {
      "text/plain": [
       "350"
      ]
     },
     "execution_count": 11,
     "metadata": {},
     "output_type": "execute_result"
    }
   ],
   "source": [
    "num1"
   ]
  },
  {
   "cell_type": "code",
   "execution_count": 12,
   "id": "683e90fc",
   "metadata": {},
   "outputs": [
    {
     "data": {
      "text/plain": [
       "400"
      ]
     },
     "execution_count": 12,
     "metadata": {},
     "output_type": "execute_result"
    }
   ],
   "source": [
    "num2"
   ]
  },
  {
   "cell_type": "code",
   "execution_count": 13,
   "id": "49fb6c92",
   "metadata": {},
   "outputs": [
    {
     "data": {
      "text/plain": [
       "900"
      ]
     },
     "execution_count": 13,
     "metadata": {},
     "output_type": "execute_result"
    }
   ],
   "source": [
    "num3"
   ]
  },
  {
   "cell_type": "code",
   "execution_count": 14,
   "id": "754ff228",
   "metadata": {},
   "outputs": [
    {
     "data": {
      "text/plain": [
       "120"
      ]
     },
     "execution_count": 14,
     "metadata": {},
     "output_type": "execute_result"
    }
   ],
   "source": [
    "num4"
   ]
  },
  {
   "cell_type": "markdown",
   "id": "8f4a3ae3",
   "metadata": {},
   "source": [
    "   * Fatiamento de listas (slicing)\n",
    "   \n",
    "Considere a lista hipotética z. Se quisermos selecionar todos os valores entre os índices m-n (selecionar todos os valores começando no valor m até o valor de índice n-1):\n",
    "\n",
    "   * z[m:n]"
   ]
  },
  {
   "cell_type": "code",
   "execution_count": 15,
   "id": "b72568b2",
   "metadata": {},
   "outputs": [],
   "source": [
    "z = [4, 7, 9, 11, 3, 1]"
   ]
  },
  {
   "cell_type": "code",
   "execution_count": 16,
   "id": "10f255fd",
   "metadata": {},
   "outputs": [
    {
     "data": {
      "text/plain": [
       "[7, 9, 11]"
      ]
     },
     "execution_count": 16,
     "metadata": {},
     "output_type": "execute_result"
    }
   ],
   "source": [
    "z[1:4]"
   ]
  },
  {
   "cell_type": "code",
   "execution_count": 17,
   "id": "e3c462ff",
   "metadata": {},
   "outputs": [
    {
     "data": {
      "text/plain": [
       "[7, 9, 11, 3, 1]"
      ]
     },
     "execution_count": 17,
     "metadata": {},
     "output_type": "execute_result"
    }
   ],
   "source": [
    "z[1:]"
   ]
  },
  {
   "cell_type": "code",
   "execution_count": 18,
   "id": "39ea16d7",
   "metadata": {},
   "outputs": [
    {
     "data": {
      "text/plain": [
       "[4, 7, 9]"
      ]
     },
     "execution_count": 18,
     "metadata": {},
     "output_type": "execute_result"
    }
   ],
   "source": [
    "z[:3]"
   ]
  },
  {
   "cell_type": "markdown",
   "id": "76a20b56",
   "metadata": {},
   "source": [
    "* Verificando se um elemento está contido em uma lista "
   ]
  },
  {
   "cell_type": "code",
   "execution_count": 19,
   "id": "5f9d1f9a",
   "metadata": {},
   "outputs": [],
   "source": [
    "# Declara a lista\n",
    "k = ['F', 'M', 'J', 'K']"
   ]
  },
  {
   "cell_type": "code",
   "execution_count": 20,
   "id": "e32fb65a",
   "metadata": {},
   "outputs": [
    {
     "data": {
      "text/plain": [
       "True"
      ]
     },
     "execution_count": 20,
     "metadata": {},
     "output_type": "execute_result"
    }
   ],
   "source": [
    "# Verifica se o elemento 'F' está contido na lista\n",
    "'F' in k"
   ]
  },
  {
   "cell_type": "code",
   "execution_count": 21,
   "id": "3f97a33c",
   "metadata": {},
   "outputs": [
    {
     "data": {
      "text/plain": [
       "False"
      ]
     },
     "execution_count": 21,
     "metadata": {},
     "output_type": "execute_result"
    }
   ],
   "source": [
    "# Verifica se o elemento 'F' não está contido na lista\n",
    "'F' not in k"
   ]
  },
  {
   "cell_type": "markdown",
   "id": "2bbc93af",
   "metadata": {},
   "source": [
    "* Métodos em listas\n",
    "\n",
    "|Métodos em List| Descrição |\n",
    "|:---------------|:-----------|\n",
    "append()\t    | Adicona um elemento ao final da lista.\n",
    "insert()\t    | Adiciona um elemento em um índice especificado.\n",
    "extend()\t    | Adiciona os elementos de um iterável no final da lista.\n",
    "pop()\t        | Remove e retorna um elemento de um índice especificado.\n",
    "remove()\t    | Remove o primeiro elemento com o valor especificado.\n",
    "clear()\t        | Remove todos os elementos de uma lista.\n",
    "copy()\t        | Retorna uma cópia da lista selecionada.\n",
    "sort()\t        | Ordena a lista.\n",
    "reverse()\t    | Reverte a ordem dos elementos em uma lista.\n",
    "index()\t        | Retorna o primeiro índice do elemento especificado.\n",
    "count()\t        | Conta o número de vezes que o elemento aparece na lista."
   ]
  }
 ],
 "metadata": {
  "kernelspec": {
   "display_name": "Python 3 (ipykernel)",
   "language": "python",
   "name": "python3"
  },
  "language_info": {
   "codemirror_mode": {
    "name": "ipython",
    "version": 3
   },
   "file_extension": ".py",
   "mimetype": "text/x-python",
   "name": "python",
   "nbconvert_exporter": "python",
   "pygments_lexer": "ipython3",
   "version": "3.9.7"
  }
 },
 "nbformat": 4,
 "nbformat_minor": 5
}

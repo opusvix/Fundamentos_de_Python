{
 "cells": [
  {
   "cell_type": "markdown",
   "id": "6580652c",
   "metadata": {},
   "source": [
    "## 9. Tuplas\n",
    "\n",
    "   * Tuplas são coleções ordenadas e imutáveis. Existem dois métodos para tuplas: count e index. Podemos criar tuplas com ()"
   ]
  },
  {
   "cell_type": "code",
   "execution_count": 1,
   "id": "c9d8cedd",
   "metadata": {},
   "outputs": [],
   "source": [
    "tupla = (1, 2, 3, 4, 5)"
   ]
  },
  {
   "cell_type": "code",
   "execution_count": 2,
   "id": "98b4090e",
   "metadata": {},
   "outputs": [
    {
     "data": {
      "text/plain": [
       "tuple"
      ]
     },
     "execution_count": 2,
     "metadata": {},
     "output_type": "execute_result"
    }
   ],
   "source": [
    "# Checa o tipo do objeto criado\n",
    "type(tupla)"
   ]
  },
  {
   "cell_type": "code",
   "execution_count": 3,
   "id": "55369045",
   "metadata": {},
   "outputs": [],
   "source": [
    "tupla1 = 1, 2, 3, 4, 5"
   ]
  },
  {
   "cell_type": "code",
   "execution_count": 4,
   "id": "14621409",
   "metadata": {},
   "outputs": [
    {
     "data": {
      "text/plain": [
       "tuple"
      ]
     },
     "execution_count": 4,
     "metadata": {},
     "output_type": "execute_result"
    }
   ],
   "source": [
    "type(tupla1)"
   ]
  },
  {
   "cell_type": "code",
   "execution_count": 5,
   "id": "4217aef7",
   "metadata": {},
   "outputs": [],
   "source": [
    "tupla = (10)"
   ]
  },
  {
   "cell_type": "code",
   "execution_count": 6,
   "id": "31491e56",
   "metadata": {},
   "outputs": [
    {
     "data": {
      "text/plain": [
       "int"
      ]
     },
     "execution_count": 6,
     "metadata": {},
     "output_type": "execute_result"
    }
   ],
   "source": [
    "type(tupla)"
   ]
  },
  {
   "cell_type": "code",
   "execution_count": 7,
   "id": "d34cfc49",
   "metadata": {},
   "outputs": [],
   "source": [
    "tupla = (10,)"
   ]
  },
  {
   "cell_type": "code",
   "execution_count": 8,
   "id": "271239fd",
   "metadata": {},
   "outputs": [
    {
     "data": {
      "text/plain": [
       "tuple"
      ]
     },
     "execution_count": 8,
     "metadata": {},
     "output_type": "execute_result"
    }
   ],
   "source": [
    "type(tupla)"
   ]
  },
  {
   "cell_type": "code",
   "execution_count": 9,
   "id": "204ece85",
   "metadata": {},
   "outputs": [],
   "source": [
    "tupla = 10,"
   ]
  },
  {
   "cell_type": "code",
   "execution_count": 10,
   "id": "932a3979",
   "metadata": {},
   "outputs": [
    {
     "data": {
      "text/plain": [
       "tuple"
      ]
     },
     "execution_count": 10,
     "metadata": {},
     "output_type": "execute_result"
    }
   ],
   "source": [
    "type(tupla)"
   ]
  },
  {
   "cell_type": "markdown",
   "id": "07ecba24",
   "metadata": {},
   "source": [
    "* Métodos em tuplas\n",
    "\n",
    "|Método|Descrição|\n",
    "|:-----|:--------|\n",
    "index()\t|Retorna o índice do elemento especificado.\n",
    "count()\t|Conta o número de vezes que o elemento aparece na tupla.\n"
   ]
  },
  {
   "cell_type": "code",
   "execution_count": 11,
   "id": "abcc53c1",
   "metadata": {},
   "outputs": [],
   "source": [
    "tupla = ('a', 'b', 'c', 'd')"
   ]
  },
  {
   "cell_type": "code",
   "execution_count": 12,
   "id": "211fa9f7",
   "metadata": {},
   "outputs": [
    {
     "data": {
      "text/plain": [
       "1"
      ]
     },
     "execution_count": 12,
     "metadata": {},
     "output_type": "execute_result"
    }
   ],
   "source": [
    "tupla.index('b')"
   ]
  },
  {
   "cell_type": "code",
   "execution_count": 13,
   "id": "8bf99abe",
   "metadata": {},
   "outputs": [
    {
     "data": {
      "text/plain": [
       "3"
      ]
     },
     "execution_count": 13,
     "metadata": {},
     "output_type": "execute_result"
    }
   ],
   "source": [
    "tupla.index('d')"
   ]
  },
  {
   "cell_type": "code",
   "execution_count": 14,
   "id": "10ab1431",
   "metadata": {},
   "outputs": [
    {
     "data": {
      "text/plain": [
       "1"
      ]
     },
     "execution_count": 14,
     "metadata": {},
     "output_type": "execute_result"
    }
   ],
   "source": [
    "tupla.count('a')"
   ]
  },
  {
   "cell_type": "code",
   "execution_count": 15,
   "id": "9134e8ab",
   "metadata": {},
   "outputs": [
    {
     "name": "stdout",
     "output_type": "stream",
     "text": [
      "Índice de 'a': 0\n",
      "Índice de 'd': 3\n"
     ]
    }
   ],
   "source": [
    "print(f\"Índice de 'a': {tupla.index('a')}\")\n",
    "print(f\"Índice de 'd': {tupla.index('d')}\")"
   ]
  },
  {
   "cell_type": "code",
   "execution_count": 16,
   "id": "34b079bd",
   "metadata": {},
   "outputs": [
    {
     "name": "stdout",
     "output_type": "stream",
     "text": [
      "3\n"
     ]
    }
   ],
   "source": [
    "tupla = ('a', 'z', 'z', 'z', 'w')\n",
    "print(tupla.count('z'))"
   ]
  }
 ],
 "metadata": {
  "kernelspec": {
   "display_name": "Python 3 (ipykernel)",
   "language": "python",
   "name": "python3"
  },
  "language_info": {
   "codemirror_mode": {
    "name": "ipython",
    "version": 3
   },
   "file_extension": ".py",
   "mimetype": "text/x-python",
   "name": "python",
   "nbconvert_exporter": "python",
   "pygments_lexer": "ipython3",
   "version": "3.9.7"
  }
 },
 "nbformat": 4,
 "nbformat_minor": 5
}

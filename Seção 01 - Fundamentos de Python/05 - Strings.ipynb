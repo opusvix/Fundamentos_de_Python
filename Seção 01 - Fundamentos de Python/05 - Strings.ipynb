{
 "cells": [
  {
   "cell_type": "markdown",
   "id": "78fff493",
   "metadata": {},
   "source": [
    "## 05 - Strings"
   ]
  },
  {
   "cell_type": "code",
   "execution_count": 1,
   "id": "f33f881d",
   "metadata": {},
   "outputs": [],
   "source": [
    "nome = \"UserPython\""
   ]
  },
  {
   "cell_type": "code",
   "execution_count": 2,
   "id": "5e97f8e0",
   "metadata": {},
   "outputs": [
    {
     "data": {
      "text/plain": [
       "'U'"
      ]
     },
     "execution_count": 2,
     "metadata": {},
     "output_type": "execute_result"
    }
   ],
   "source": [
    "nome[0]"
   ]
  },
  {
   "cell_type": "code",
   "execution_count": 3,
   "id": "b1b863e7",
   "metadata": {},
   "outputs": [
    {
     "data": {
      "text/plain": [
       "'s'"
      ]
     },
     "execution_count": 3,
     "metadata": {},
     "output_type": "execute_result"
    }
   ],
   "source": [
    "nome[1]"
   ]
  },
  {
   "cell_type": "code",
   "execution_count": 4,
   "id": "9c41e9eb",
   "metadata": {},
   "outputs": [
    {
     "data": {
      "text/plain": [
       "'P'"
      ]
     },
     "execution_count": 4,
     "metadata": {},
     "output_type": "execute_result"
    }
   ],
   "source": [
    "nome[4]"
   ]
  },
  {
   "cell_type": "code",
   "execution_count": 5,
   "id": "c31daa56",
   "metadata": {},
   "outputs": [
    {
     "data": {
      "text/plain": [
       "'User'"
      ]
     },
     "execution_count": 5,
     "metadata": {},
     "output_type": "execute_result"
    }
   ],
   "source": [
    "nome[0:4]"
   ]
  },
  {
   "cell_type": "code",
   "execution_count": 6,
   "id": "b063b5a1",
   "metadata": {},
   "outputs": [
    {
     "data": {
      "text/plain": [
       "'Python'"
      ]
     },
     "execution_count": 6,
     "metadata": {},
     "output_type": "execute_result"
    }
   ],
   "source": [
    "nome[4:]"
   ]
  },
  {
   "cell_type": "code",
   "execution_count": 7,
   "id": "3294f430",
   "metadata": {},
   "outputs": [
    {
     "data": {
      "text/plain": [
       "'User'"
      ]
     },
     "execution_count": 7,
     "metadata": {},
     "output_type": "execute_result"
    }
   ],
   "source": [
    "nome[:4]"
   ]
  },
  {
   "cell_type": "code",
   "execution_count": 8,
   "id": "732429f1",
   "metadata": {},
   "outputs": [
    {
     "data": {
      "text/plain": [
       "'Us'"
      ]
     },
     "execution_count": 8,
     "metadata": {},
     "output_type": "execute_result"
    }
   ],
   "source": [
    "nome[:2]"
   ]
  },
  {
   "cell_type": "code",
   "execution_count": 9,
   "id": "0d9216a6",
   "metadata": {},
   "outputs": [
    {
     "data": {
      "text/plain": [
       "'UserPython'"
      ]
     },
     "execution_count": 9,
     "metadata": {},
     "output_type": "execute_result"
    }
   ],
   "source": [
    "nome[:]"
   ]
  },
  {
   "cell_type": "code",
   "execution_count": 10,
   "id": "a9bf0a4b",
   "metadata": {},
   "outputs": [
    {
     "data": {
      "text/plain": [
       "6"
      ]
     },
     "execution_count": 10,
     "metadata": {},
     "output_type": "execute_result"
    }
   ],
   "source": [
    "len(\"Python\")"
   ]
  },
  {
   "cell_type": "code",
   "execution_count": 11,
   "id": "dfb207f0",
   "metadata": {},
   "outputs": [
    {
     "data": {
      "text/plain": [
       "10"
      ]
     },
     "execution_count": 11,
     "metadata": {},
     "output_type": "execute_result"
    }
   ],
   "source": [
    "len(nome)"
   ]
  },
  {
   "cell_type": "code",
   "execution_count": 12,
   "id": "d40cacea",
   "metadata": {},
   "outputs": [
    {
     "data": {
      "text/plain": [
       "True"
      ]
     },
     "execution_count": 12,
     "metadata": {},
     "output_type": "execute_result"
    }
   ],
   "source": [
    "a = \"Python World\"\n",
    "\"Python\" in a"
   ]
  },
  {
   "cell_type": "code",
   "execution_count": 13,
   "id": "861566e4",
   "metadata": {},
   "outputs": [
    {
     "data": {
      "text/plain": [
       "False"
      ]
     },
     "execution_count": 13,
     "metadata": {},
     "output_type": "execute_result"
    }
   ],
   "source": [
    "a = \"Python World\"\n",
    "\"Java\" in a"
   ]
  },
  {
   "cell_type": "code",
   "execution_count": 14,
   "id": "f7c5402f",
   "metadata": {},
   "outputs": [
    {
     "data": {
      "text/plain": [
       "False"
      ]
     },
     "execution_count": 14,
     "metadata": {},
     "output_type": "execute_result"
    }
   ],
   "source": [
    "nome not in \"UserPython UserPython\""
   ]
  },
  {
   "cell_type": "code",
   "execution_count": 15,
   "id": "fc5a9d6e",
   "metadata": {},
   "outputs": [
    {
     "data": {
      "text/plain": [
       "True"
      ]
     },
     "execution_count": 15,
     "metadata": {},
     "output_type": "execute_result"
    }
   ],
   "source": [
    "nome in \"UserPython UserPython\""
   ]
  },
  {
   "cell_type": "code",
   "execution_count": 16,
   "id": "657f7839",
   "metadata": {},
   "outputs": [],
   "source": [
    "nome = \"João\""
   ]
  },
  {
   "cell_type": "code",
   "execution_count": 17,
   "id": "81f69d1a",
   "metadata": {},
   "outputs": [
    {
     "data": {
      "text/plain": [
       "'joão'"
      ]
     },
     "execution_count": 17,
     "metadata": {},
     "output_type": "execute_result"
    }
   ],
   "source": [
    "nome.lower()"
   ]
  },
  {
   "cell_type": "code",
   "execution_count": 18,
   "id": "ea424781",
   "metadata": {},
   "outputs": [
    {
     "data": {
      "text/plain": [
       "'JOÃO'"
      ]
     },
     "execution_count": 18,
     "metadata": {},
     "output_type": "execute_result"
    }
   ],
   "source": [
    "nome.upper()"
   ]
  },
  {
   "cell_type": "code",
   "execution_count": 19,
   "id": "3ef87235",
   "metadata": {},
   "outputs": [
    {
     "data": {
      "text/plain": [
       "'Python'"
      ]
     },
     "execution_count": 19,
     "metadata": {},
     "output_type": "execute_result"
    }
   ],
   "source": [
    "ling = \"   Python\"\n",
    "ling.strip()"
   ]
  },
  {
   "cell_type": "code",
   "execution_count": 20,
   "id": "496de051",
   "metadata": {},
   "outputs": [
    {
     "name": "stdout",
     "output_type": "stream",
     "text": [
      "Digite sua linguagem de programação: Python\n"
     ]
    }
   ],
   "source": [
    "linguagem = input(\"Digite sua linguagem de programação: \")"
   ]
  },
  {
   "cell_type": "code",
   "execution_count": 21,
   "id": "9273babf",
   "metadata": {},
   "outputs": [
    {
     "data": {
      "text/plain": [
       "'Python'"
      ]
     },
     "execution_count": 21,
     "metadata": {},
     "output_type": "execute_result"
    }
   ],
   "source": [
    "linguagem"
   ]
  },
  {
   "cell_type": "code",
   "execution_count": 22,
   "id": "8c55abf7",
   "metadata": {},
   "outputs": [
    {
     "data": {
      "text/plain": [
       "'Python'"
      ]
     },
     "execution_count": 22,
     "metadata": {},
     "output_type": "execute_result"
    }
   ],
   "source": [
    "linguagem.strip()"
   ]
  },
  {
   "cell_type": "code",
   "execution_count": 23,
   "id": "169815f7",
   "metadata": {},
   "outputs": [
    {
     "data": {
      "text/plain": [
       "' João Carlos Da Silva'"
      ]
     },
     "execution_count": 23,
     "metadata": {},
     "output_type": "execute_result"
    }
   ],
   "source": [
    "nome = \" joão carlos da silva\"\n",
    "nome.title()"
   ]
  },
  {
   "cell_type": "code",
   "execution_count": 24,
   "id": "7a491cd9",
   "metadata": {},
   "outputs": [
    {
     "data": {
      "text/plain": [
       "'João Carlos Da Silva'"
      ]
     },
     "execution_count": 24,
     "metadata": {},
     "output_type": "execute_result"
    }
   ],
   "source": [
    "nome.strip().title()"
   ]
  },
  {
   "cell_type": "code",
   "execution_count": 25,
   "id": "f0a93cff",
   "metadata": {},
   "outputs": [
    {
     "data": {
      "text/plain": [
       "1"
      ]
     },
     "execution_count": 25,
     "metadata": {},
     "output_type": "execute_result"
    }
   ],
   "source": [
    "nome.index('j')"
   ]
  }
 ],
 "metadata": {
  "kernelspec": {
   "display_name": "Python 3 (ipykernel)",
   "language": "python",
   "name": "python3"
  },
  "language_info": {
   "codemirror_mode": {
    "name": "ipython",
    "version": 3
   },
   "file_extension": ".py",
   "mimetype": "text/x-python",
   "name": "python",
   "nbconvert_exporter": "python",
   "pygments_lexer": "ipython3",
   "version": "3.9.7"
  }
 },
 "nbformat": 4,
 "nbformat_minor": 5
}

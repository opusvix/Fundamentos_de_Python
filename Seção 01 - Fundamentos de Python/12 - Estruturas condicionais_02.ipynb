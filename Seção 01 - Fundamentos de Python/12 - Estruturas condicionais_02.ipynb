{
 "cells": [
  {
   "cell_type": "markdown",
   "id": "587b02aa",
   "metadata": {},
   "source": [
    "## 12. Estruturas condicionais"
   ]
  },
  {
   "cell_type": "code",
   "execution_count": null,
   "id": "3e3c4424",
   "metadata": {},
   "outputs": [],
   "source": [
    "if <condição>:\n",
    "    <bloco_de_código>\n",
    "elif <condição>:\n",
    "    <bloco_de_código>\n",
    "elif <condição>:\n",
    "    <bloco_de_código>\n",
    "else:\n",
    "    <bloco_de_dódigo>"
   ]
  },
  {
   "cell_type": "code",
   "execution_count": 1,
   "id": "adf9f901",
   "metadata": {},
   "outputs": [],
   "source": [
    "lista = []"
   ]
  },
  {
   "cell_type": "code",
   "execution_count": 2,
   "id": "be34bb5d",
   "metadata": {},
   "outputs": [
    {
     "name": "stdout",
     "output_type": "stream",
     "text": [
      "Cadastrar produto.\n",
      "Digite o nome do produto: Feijão\n",
      "Digite a quantidade: 10\n",
      "Digite o preço do produto: 9.99\n",
      "Produto cadastrado com sucesso.\n"
     ]
    }
   ],
   "source": [
    "num = 1\n",
    "\n",
    "if num == 1:\n",
    "    print(\"Cadastrar produto.\")\n",
    "    \n",
    "    nome = input(\"Digite o nome do produto: \")\n",
    "    quantidade = int(input(\"Digite a quantidade: \"))\n",
    "    preco = float(input(\"Digite o preço do produto: \"))\n",
    "    \n",
    "    if quantidade > 0:\n",
    "        print(\"Produto cadastrado com sucesso.\")\n",
    "        lista.append([nome, quantidade, preco])\n",
    "    \n",
    "elif num == 2:\n",
    "    print(\"Remover produto.\")\n",
    "elif num == 3:\n",
    "    print(\"Listar produtos.\")\n",
    "else:\n",
    "    print(\"Opção inválida.\")"
   ]
  },
  {
   "cell_type": "code",
   "execution_count": 3,
   "id": "b5a7a86a",
   "metadata": {},
   "outputs": [
    {
     "data": {
      "text/plain": [
       "[['Feijão', 10, 9.99]]"
      ]
     },
     "execution_count": 3,
     "metadata": {},
     "output_type": "execute_result"
    }
   ],
   "source": [
    "lista"
   ]
  }
 ],
 "metadata": {
  "kernelspec": {
   "display_name": "Python 3 (ipykernel)",
   "language": "python",
   "name": "python3"
  },
  "language_info": {
   "codemirror_mode": {
    "name": "ipython",
    "version": 3
   },
   "file_extension": ".py",
   "mimetype": "text/x-python",
   "name": "python",
   "nbconvert_exporter": "python",
   "pygments_lexer": "ipython3",
   "version": "3.9.7"
  }
 },
 "nbformat": 4,
 "nbformat_minor": 5
}
